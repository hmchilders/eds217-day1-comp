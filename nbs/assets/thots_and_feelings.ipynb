{
 "cells": [
  {
   "cell_type": "code",
   "execution_count": 6,
   "metadata": {},
   "outputs": [],
   "source": [
    "import pandas as pd # for dataframes\n",
    "import matplotlib.pyplot as plt # for plots\n",
    "import seaborn as sns # for nicer plots\n",
    "import re # regular expressions\n",
    "import plotnine\n",
    "\n",
    "# Read the data\n",
    "toolik_weather = pd.read_csv(\n",
    "    # Path to the data\n",
    "    \"../../data/raw_data/toolik_weather.csv\",\n",
    "    # not a number values are \"#N/A\"\n",
    "    na_values=\"#N/A\"\n",
    "    )"
   ]
  },
  {
   "cell_type": "code",
   "execution_count": 7,
   "metadata": {},
   "outputs": [
    {
     "data": {
      "text/plain": [
       "Index(['year', 'month', 'date', 'lter_site', 'station',\n",
       "       'daily_air_temp_mean_c', 'flag_daily_air_temp_mean_c',\n",
       "       'daily_air_temp_abs_max_c', 'flag_daily_air_temp_abs_max_c',\n",
       "       'daily_air_temp_abs_min_c', 'flag_daily_air_temp_abs_min_c',\n",
       "       'daily_precip_total_mm', 'flag_daily_precip_total_mm',\n",
       "       'daily_windsp_mean_msec', 'flag_daily_windsp_mean_msec',\n",
       "       'daily_windspeed_abs_max_m_s', 'daily_globalrad_total_jcm2',\n",
       "       'flag_daily_globalrad_total_mjm2', 'moss', 'soil20cm', 'comments'],\n",
       "      dtype='object')"
      ]
     },
     "execution_count": 7,
     "metadata": {},
     "output_type": "execute_result"
    }
   ],
   "source": [
    "def snakecase(s):\n",
    "        \"\"\"Convert CamelCase to snake_case and lowercase the string\n",
    "        s: string\n",
    "        \"\"\"\n",
    "        s = re.sub(\n",
    "        # Find a lower case letter or number (group 1)\n",
    "        # followed by an upper case letter (group 2):\n",
    "        '([a-z0-9])([A-Z])',\n",
    "        # Replace with - \n",
    "        # \\1, the lower case letter, \n",
    "        # _, an underscore, and\n",
    "        # \\2, the upper case letter:\n",
    "        r'\\1_\\2',\n",
    "        # Perform the search and replace in \n",
    "        # the string s:\n",
    "        s \n",
    "        )\n",
    "        s = re.sub(\n",
    "                ' ', # Find a space\n",
    "                '_', # Replace with an underscore\n",
    "                s    # In the string\n",
    "                ).lower()  # Convert to lower case\n",
    "        return s\n",
    "\n",
    "\n",
    "toolik_weather.columns = [\n",
    "    # Replace spaces with underscores and lowercase labels\n",
    "    # for each col in toolik_weather.columns\n",
    "    snakecase(col) for col in toolik_weather.columns\n",
    "]\n",
    "\n",
    "# Check the cleaned column names\n",
    "toolik_weather.columns"
   ]
  },
  {
   "cell_type": "code",
   "execution_count": 9,
   "metadata": {},
   "outputs": [
    {
     "ename": "NameError",
     "evalue": "name 'ggplot' is not defined",
     "output_type": "error",
     "traceback": [
      "\u001b[0;31m---------------------------------------------------------------------------\u001b[0m",
      "\u001b[0;31mNameError\u001b[0m                                 Traceback (most recent call last)",
      "Cell \u001b[0;32mIn[9], line 2\u001b[0m\n\u001b[1;32m      1\u001b[0m toolik_temp_plot \u001b[39m=\u001b[39m (\n\u001b[0;32m----> 2\u001b[0m     ggplot(toolik_weather, aes(x\u001b[39m=\u001b[39m\u001b[39m'\u001b[39m\u001b[39mfactor(month)\u001b[39m\u001b[39m'\u001b[39m, y\u001b[39m=\u001b[39m\u001b[39m'\u001b[39m\u001b[39mdaily_air_temp_mean_c\u001b[39m\u001b[39m'\u001b[39m)) \u001b[39m+\u001b[39m\n\u001b[1;32m      3\u001b[0m     geom_jitter(aes(color\u001b[39m=\u001b[39m\u001b[39m'\u001b[39m\u001b[39mdaily_air_temp_mean_c\u001b[39m\u001b[39m'\u001b[39m), show_legend\u001b[39m=\u001b[39m\u001b[39mFalse\u001b[39;00m) \u001b[39m+\u001b[39m\n\u001b[1;32m      4\u001b[0m     scale_color_gradient(low\u001b[39m=\u001b[39m\u001b[39m\"\u001b[39m\u001b[39mblue\u001b[39m\u001b[39m\"\u001b[39m, high\u001b[39m=\u001b[39m\u001b[39m\"\u001b[39m\u001b[39morange\u001b[39m\u001b[39m\"\u001b[39m) \u001b[39m+\u001b[39m\n\u001b[1;32m      5\u001b[0m     theme_minimal() \u001b[39m+\u001b[39m\n\u001b[1;32m      6\u001b[0m     labs(title\u001b[39m=\u001b[39m\u001b[39m\"\u001b[39m\u001b[39mToolik Station daily air temperature\u001b[39m\u001b[39m\"\u001b[39m,\n\u001b[1;32m      7\u001b[0m          x\u001b[39m=\u001b[39m\u001b[39m\"\u001b[39m\u001b[39mMonth\u001b[39m\u001b[39m\"\u001b[39m,\n\u001b[1;32m      8\u001b[0m          y\u001b[39m=\u001b[39m\u001b[39m\"\u001b[39m\u001b[39mDaily mean air temperatures (Celsius)\u001b[39m\u001b[39m\"\u001b[39m)\n\u001b[1;32m      9\u001b[0m )\n\u001b[1;32m     11\u001b[0m \u001b[39mprint\u001b[39m(toolik_temp_plot)\n\u001b[1;32m     12\u001b[0m save(toolik_temp_plot, filename\u001b[39m=\u001b[39moutput_path, height\u001b[39m=\u001b[39m\u001b[39m6\u001b[39m, width\u001b[39m=\u001b[39m\u001b[39m7\u001b[39m, units\u001b[39m=\u001b[39m\u001b[39m'\u001b[39m\u001b[39min\u001b[39m\u001b[39m'\u001b[39m)\n",
      "\u001b[0;31mNameError\u001b[0m: name 'ggplot' is not defined"
     ]
    }
   ],
   "source": [
    "toolik_temp_plot = (\n",
    "    ggplot(toolik_weather, aes(x='factor(month)', y='daily_air_temp_mean_c')) +\n",
    "    geom_jitter(aes(color='daily_air_temp_mean_c'), show_legend=False) +\n",
    "    scale_color_gradient(low=\"blue\", high=\"orange\") +\n",
    "    theme_minimal() +\n",
    "    labs(title=\"Toolik Station daily air temperature\",\n",
    "         x=\"Month\",\n",
    "         y=\"Daily mean air temperatures (Celsius)\")\n",
    ")\n",
    "\n",
    "print(toolik_temp_plot)\n",
    "save(toolik_temp_plot, filename=output_path, height=6, width=7, units='in')"
   ]
  }
 ],
 "metadata": {
  "kernelspec": {
   "display_name": "eds217_2023",
   "language": "python",
   "name": "python3"
  },
  "language_info": {
   "codemirror_mode": {
    "name": "ipython",
    "version": 3
   },
   "file_extension": ".py",
   "mimetype": "text/x-python",
   "name": "python",
   "nbconvert_exporter": "python",
   "pygments_lexer": "ipython3",
   "version": "3.10.12"
  },
  "orig_nbformat": 4
 },
 "nbformat": 4,
 "nbformat_minor": 2
}
